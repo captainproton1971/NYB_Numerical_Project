{
 "cells": [
  {
   "cell_type": "markdown",
   "metadata": {},
   "source": [
    "# Physics NYB (Dugdale)\n",
    "## Project: Numerical solution to motion problems\n",
    "### Part 1: Numerical Toolkit\n"
   ]
  },
  {
   "cell_type": "markdown",
   "metadata": {},
   "source": [
    "Please enter names of your group members who have participated in completing this sheet.  Once you've done this, hit the \"Run\" button on the menu above and you'll see it's made to look 'pretty'.  You can edit this cell again by double-clicking it.\n",
    "\n",
    " * Student 1: \n",
    " * Student 2:\n",
    " * Student 3:\n",
    " * Student 4:\n",
    " * Student 5:"
   ]
  },
  {
   "cell_type": "markdown",
   "metadata": {},
   "source": [
    "#### Overview\n",
    "This is a Jupyter Notebook, a document that allows you to write, edit, and run Python Code as well as including text (like you're reading now).\n",
    "\n",
    "One group member will have to act as the 'scribe' for the group.  (S)he will run this notebook in his or her browser, while sharing the screen with the rest of the group.\n",
    "\n",
    "You'll be editing and running some of the code that's here, and (finally) downloading and submitting a copy of your Notebook.\n",
    "\n",
    "##### Setting up libraries\n",
    "The code below loads some useful libraries that we'll use to compute, store, and visualize your results.  *You need to _run_ the cell below*. Select the cell and hit the 'Run' button in the menu above.  Once complete, you'll see In [*num*], where *num* is a number (probably 1)."
   ]
  },
  {
   "cell_type": "code",
   "execution_count": 1,
   "metadata": {},
   "outputs": [],
   "source": [
    "import pandas as pd\n",
    "from matplotlib import pyplot as plt\n",
    "import math"
   ]
  },
  {
   "cell_type": "code",
   "execution_count": null,
   "metadata": {},
   "outputs": [],
   "source": []
  }
 ],
 "metadata": {
  "kernelspec": {
   "display_name": "Python 3",
   "language": "python",
   "name": "python3"
  },
  "language_info": {
   "codemirror_mode": {
    "name": "ipython",
    "version": 3
   },
   "file_extension": ".py",
   "mimetype": "text/x-python",
   "name": "python",
   "nbconvert_exporter": "python",
   "pygments_lexer": "ipython3",
   "version": "3.6.9"
  }
 },
 "nbformat": 4,
 "nbformat_minor": 2
}
