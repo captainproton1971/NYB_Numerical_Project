{
 "cells": [
  {
   "cell_type": "markdown",
   "metadata": {},
   "source": [
    "# Physics NYB (Dugdale)\n",
    "## Project: Numerical solution to motion problems\n",
    "### Part 1: Numerical Toolkit\n"
   ]
  },
  {
   "cell_type": "markdown",
   "metadata": {},
   "source": [
    "Please enter names of your group members who have participated in completing this sheet.  \n",
    "\n",
    "Click 'Render' (menu at right of cell) when you're done to make it look 'pretty'.\n",
    "\n",
    "You can edit this cell again by double-clicking it.\n",
    "\n",
    " * Group ID: \n",
    " * Student 1: \n",
    " * Student 2:\n",
    " * Student 3:\n",
    " * Student 4:\n",
    " * Student 5:"
   ]
  },
  {
   "cell_type": "markdown",
   "metadata": {},
   "source": [
    "#### Overview\n",
    "This is a Jupyter Notebook, a document that allows you to write, edit, and run Python Code as well as including text (like you're reading now).\n",
    "\n",
    "You'll be editing and running some of the code that's here.\n",
    "\n",
    "##### Setting up libraries\n",
    "The code below loads some useful libraries that we'll use to compute, store, and visualize your results.  *You need to _run_ the cell (menu item at right)*. Select the cell and hit the 'Run' button in the menu above.  Once complete, you'll see In [*num*], where *num* is a number (probably 1)."
   ]
  },
  {
   "cell_type": "code",
   "execution_count": null,
   "metadata": {},
   "outputs": [],
   "source": [
    "import pandas as pd\n",
    "from matplotlib import pyplot as plt\n",
    "import math"
   ]
  },
  {
   "cell_type": "markdown",
   "metadata": {},
   "source": [
    "### Writing functions in Python\n",
    "Below is an example of how a function is written in Python.  Run the cell to define the function test_function(x)\n"
   ]
  },
  {
   "cell_type": "code",
   "execution_count": null,
   "metadata": {},
   "outputs": [],
   "source": [
    "def test_function(x):\n",
    "    '''Takes a number x and rerturns 3x^2 +1.\n",
    "    E.g., x = 4 gives 49'''\n",
    "    answer = 3*x**2 + 1\n",
    "    return(answer)"
   ]
  },
  {
   "cell_type": "markdown",
   "metadata": {},
   "source": [
    "Once the function is defined, you can test its code by running it, as I demonstrate below (run the cell)."
   ]
  },
  {
   "cell_type": "code",
   "execution_count": null,
   "metadata": {},
   "outputs": [],
   "source": [
    "print(test_function(4))"
   ]
  },
  {
   "cell_type": "markdown",
   "metadata": {},
   "source": [
    "#### Writing an acceleration function\n",
    "\n",
    "We're going to be writing interesting acceleration functions for this project; ones that aren't uniform or constant.  Below, I give an example of an acceleration function that *could* depend on position, velocity, and/or time.\n",
    "\n",
    "To do this, I've included default values for each of the variables (x=0, v=0, t=0) so that they don't always have to be included in your function call.  Run the code in the next two cells to see what I mean.\n"
   ]
  },
  {
   "cell_type": "code",
   "execution_count": null,
   "metadata": {},
   "outputs": [],
   "source": [
    "def gravity_acceleration(x=0, v=0, t=0):\n",
    "    '''Takes position x, velocity v, and time t and returns the acceleration.\n",
    "    Each of the inputs has a default value of 0, so the function can be called in any of the following ways:\n",
    "    \n",
    "        gravity_acceleration(3, 4, 2) OR gravity_acceleration(x=3, v=4, t=2) for x=3m, v=4m/s and t=2s\n",
    "        gravity_acceleration(v=4) for x=0m, v=4m/s and t=0s\n",
    "        gravity_acceleration(x=1,t=3) for x=1m, v=0m/s, and t=3s\n",
    "        gravity_acceleration() for x=0m, v=0m/s, t=0s\n",
    "        \n",
    "    In this version of the function, the gravitational acceleration is always 9.81 m/s downwards, so the value doesn't\n",
    "    depend on x, v or t    \n",
    "    '''    \n",
    "    accel = -9.81\n",
    "    return(accel)"
   ]
  },
  {
   "cell_type": "code",
   "execution_count": null,
   "metadata": {},
   "outputs": [],
   "source": [
    "# test the function gravity_acceleration for several ways of writing it.\n",
    "\n",
    "print(gravity_acceleration(3,4,2))\n",
    "print(gravity_acceleration(x=3,v=4,t=2))\n",
    "print(gravity_acceleration(v=4))\n",
    "print(gravity_acceleration(x=1,t=3))\n",
    "print(gravity_acceleration())"
   ]
  },
  {
   "cell_type": "markdown",
   "metadata": {},
   "source": [
    "#### Writing your own acceleration formula\n",
    "Using the above idea as a template, write an acceleration function that includes an air-resistance (velocity-dependent) term.\n",
    "$$a(v) = -g\\left(1+\\frac{v}{v_\\text{term}}\\right),$$\n",
    "where $v_\\text{term}$ is the *terminal speed* of the falling object.\n",
    "\n",
    "For context, a freely-falling person has a terminal *speed* of around 50 m/s (very approximate).  Someone employing a parachute, on the other hand, has a terminal *speed* of around 5 m/s (also very approximate).  The term speed here\n",
    "\n",
    "Your function should have the same input parameters as above, but only make use of the velocity.\n",
    "\n",
    "Note: Terminal *speed* is a positive value, however the *velocity* of the falling object is most likely to be negative (it's falling, right...)\n",
    "\n",
    "You may choose any reasonable value for $v_\\text{term}$ but indicate its value using a Python comment (use # to start a comment)\n",
    "\n",
    "Give your function the name **term_acceleration**"
   ]
  },
  {
   "cell_type": "code",
   "execution_count": null,
   "metadata": {},
   "outputs": [],
   "source": [
    "# Write your acceleration function here.\n",
    "\n",
    "def term_acceleration(x=0, v=0, t=0):\n",
    "    '''Returns the acceleration of a body subject to gravity and air resistance.'''\n",
    "    #accel = (fill in your formula here, based on equation above, and remove the '#\" at the start of the line.)\n",
    "    \n",
    "    return(accel)\n",
    "    "
   ]
  },
  {
   "cell_type": "markdown",
   "metadata": {},
   "source": [
    "Now test your acceleration function in the code block below.  \n",
    "\n",
    "Try different values of velocity $v$.  \n",
    "\n",
    "E.g., $v = 0$, $v = -v_\\text{term}$, $v=-2v_\\text{term}$.  Make sure the value of acceleration makes sense to you in each case."
   ]
  },
  {
   "cell_type": "code",
   "execution_count": null,
   "metadata": {},
   "outputs": [],
   "source": [
    "# Test your acceleration function here."
   ]
  },
  {
   "cell_type": "markdown",
   "metadata": {},
   "source": [
    "### Now make the 'guts' of the system: Euler Integration\n",
    "#### This is the toolkit you'll use in future parts of the project\n",
    "\n",
    "In the code block below, we're going to implement a simple Euler integration.  First, we'll define a time step.  Then, we'll make functions that update the velocity $v(t)$ and position $x(t)$ using:\n",
    "$$v(t+\\Delta t) \\approx v(t) + \\Delta t \\times a\\left(x\\left(t\\right), v\\left(t\\right), t\\right)$$\n",
    "and\n",
    "$$x(t+\\Delta t) \\approx x(t) + \\Delta t \\times v(t +\\Delta t)$$\n",
    "\n",
    "That is, first update the velocity (using the current acceleration), *then* update the position using the new velocity."
   ]
  },
  {
   "cell_type": "code",
   "execution_count": null,
   "metadata": {},
   "outputs": [],
   "source": [
    "# Time step\n",
    "# This value can be changed.  Typically, smaller = better accuracy, but longer computation.\n",
    "# If you change the value, though, you have to re-run the cell.\n",
    "TIME_STEP = 0.1  # this is ∆t\n",
    "\n",
    "def update_position(x, v):\n",
    "    '''Finds the new position, given current position x and the updated velocity v'''\n",
    "    \n",
    "    # Note, I'll provide this for you.  Let it inspire you for the velocity update\n",
    "    new_x = x + TIME_STEP * v # just implementing the position update formula   \n",
    "    return(new_x)\n",
    "\n",
    "\n",
    "def update_velocity(v, accel_func, x, t):\n",
    "    '''Finds new velocity, given current velocity, an acceleration function, a current position and time\n",
    "    Example: new_v = update_velocity(v, gravity_acceleration, x, t)'''\n",
    "    \n",
    "    # For the acceleration function, you feed in the name of the acceleration function you're using.\n",
    "    # Inside the function, you just refer to it as accel_func(x,v,t)\n",
    "    \n",
    "    # Find the current value of acceleration using the accel_func(x,v,t) where x, v, and t are the current position,\n",
    "    # velocity and time.\n",
    "    \n",
    "    # current_accel = accel_func((fill in stuff here and remove the \"#\" at the line beginning))\n",
    "    \n",
    "    # Now find the new velocity using the current velocity, TIME_STEP and current_accel\n",
    "    \n",
    "    # new_v = (fill in your formula here and remove the #)\n",
    "       \n",
    "    return(new_v)\n",
    "        \n",
    "\n"
   ]
  },
  {
   "cell_type": "markdown",
   "metadata": {},
   "source": [
    "## Problem 1: Gravity + air resistance\n",
    "\n",
    "We'll use your Euler integration functions to find out how an object 'falls' when moving through air.  This is more complicated than the usual 'freefall' situations in mechanics because the accelertion isn't constant.\n",
    "\n",
    "I've created the loop for you in the cell below. If your functions term_acceleration, update_velocity, and update_position are working properly, the cell should compute the position, velocity, and acceleration as a function of time and plot them.\n",
    "\n",
    "Your job: play with the initial conditions (t=0, x=1000, v=0) and come up with an 'interesting' mechanics question about this situation and use the graphs to solve it."
   ]
  },
  {
   "cell_type": "code",
   "execution_count": null,
   "metadata": {},
   "outputs": [],
   "source": [
    "TIME_STEP = 0.1  # Can set the time step again here.  Remember, smaller is 'better' but comes at the expense of more computations\n",
    "\n",
    "# Create a data table to store our values.  It starts empty.  Don't worry about the details\n",
    "air_drag_data = pd.DataFrame(columns=['Time', 'Velocity', 'Position','Acceleration'])\n",
    "\n",
    "# Define our initial time, position, and velocity.  Feel free to alter these\n",
    "t = 0\n",
    "x = 1000\n",
    "v = 0\n",
    "\n",
    "# Now, start the loop of updating velocity and postion, stopping when x < 0 (it's hit the ground)\n",
    "\n",
    "while x >= 0:\n",
    "    a = term_acceleration(x,v,t)\n",
    "    \n",
    "    # store the time, velocity and position in a data table.  Don't worry about the details.\n",
    "    air_drag_data = air_drag_data.append({'Time' : t, 'Velocity' : v, 'Position' : x, 'Acceleration':a}, ignore_index=True)\n",
    "    \n",
    "    \n",
    "    # update the velocity, position, and time\n",
    "    v = update_velocity(v, term_acceleration, x, t)\n",
    "    x = update_position(x, v)\n",
    "    t = t + TIME_STEP\n",
    "    \n",
    "    \n",
    "\n",
    "plt.figure(1)\n",
    "air_drag_data.plot(x='Time',y='Position')\n",
    "plt.show()\n",
    "\n",
    "plt.figure(2)\n",
    "air_drag_data.plot(x='Time', y='Velocity')\n",
    "plt.show()\n",
    "\n",
    "plt.figure(3)\n",
    "air_drag_data.plot(x='Time', y='Acceleration')\n",
    "plt.show()\n"
   ]
  },
  {
   "cell_type": "markdown",
   "metadata": {},
   "source": [
    "Write your 'interesting' question here, and answer it using the three graphs above.  Be sure to describe what's happening in the graphs.  You'll notice they're less symmetric (and more interesting) than the old NYA problems."
   ]
  },
  {
   "cell_type": "markdown",
   "metadata": {},
   "source": [
    "------\n",
    "## Problem 2: Damped harmonic oscillations\n",
    "In class, I demonstrated with Excel how a simple harmonic oscillator could be figured out using these techniques.  You'll take this to the next step, and consider adding air resistance to that system.\n",
    "\n",
    "The acceleration we'll be looking at is:\n",
    "$$a(x,v) = -x -0.2\\times v$$\n",
    "\n",
    "Create a function called damped_oscillator_accel (x=0, v=0, t=0) that computes that acceleration, and use it to find the position, velocity and acceleration graphs as functions of time.  \n",
    "\n",
    "    * You'll need to give the system something to start with (either a non-zero initial position, non-zero initial velocity, or both).\n",
    "    * Make the TIME_STEP no larger than 0.01.\n",
    "    * Have the system loop for 30 seconds of object motion\n",
    "        - To do this, alter the 'while' statement to read 'while t <= 30'.\n",
    "\n",
    "*You'll notice it takes a longer time to compute.  That's expected*\n",
    "\n",
    "You don't need to create any questions, the graphs will tell their own story.  Try and understand them, though."
   ]
  },
  {
   "cell_type": "code",
   "execution_count": null,
   "metadata": {},
   "outputs": [],
   "source": [
    "TIME_STEP = 0.01\n",
    "\n",
    "def damped_oscillator_accel (x=0, v=0, t=0):\n",
    "    # accel = (fill in your function and remove the '#')\n",
    "    return (accel)\n",
    "\n",
    "# We'll store the data in a data frame as before\n",
    "damped_oscillator_data = pd.DataFrame(columns=['Time', 'Velocity', 'Position', 'Acceleration'])\n",
    "\n",
    "\n",
    "# Give the system some initial conditions, as before\n",
    "t= 0\n",
    "x= 1\n",
    "v= 0 \n",
    "\n",
    "### Copy and adapt the main loop from the problem above.\n",
    "### Remember, your while condition this time is 'while t <= 30:'\n",
    "### Also remember, the names of your data frame and acceleration function have changed.\n",
    "\n",
    "\n",
    "###\n",
    "\n",
    "# This is just plotting the 3 graphs.  Don't worry about it.\n",
    "plt.figure(4)\n",
    "damped_oscillator_data.plot(x='Time',y='Position')\n",
    "plt.show()\n",
    "\n",
    "plt.figure(5)\n",
    "damped_oscillator_data.plot(x='Time',y='Velocity')\n",
    "plt.show()\n",
    "\n",
    "plt.figure(6)\n",
    "damped_oscillator_data.plot(x='Time',y='Acceleration')\n",
    "plt.show()"
   ]
  },
  {
   "cell_type": "markdown",
   "metadata": {},
   "source": [
    "------\n",
    "## Problem 3: Driven damped harmonic oscillations\n",
    "\n",
    "\n",
    "Finally, you'll develop a solution for a damped (air resistance) spring-mass system that starts at rest, but is being \"pushed\" by a time-dependent force adding an acceleration term $0.2\\sin(1.05t)$.\n",
    "\n",
    "$$a(x,v,t) = -x -0.2\\times v + 0.2\\sin(1.05 t)$$\n",
    "\n",
    "Create a function called driven_damped_oscillator_accel (x=0, v=0, t=0) that computes that acceleration, and use it to find the position, velocity and acceleration graphs as functions of time.  \n",
    "\n",
    "    * Start this oscillator from rest: x = 0, v = 0 at t = 0, and let the driving term add energy to the system.\n",
    "    * The sine function isn't built in to Python.  You can access it through the math library:\n",
    "        + math.sin(1.05*t)\n",
    "    * Make the TIME_STEP no larger than 0.01.\n",
    "    * Have the system loop for 30 seconds of object motion\n",
    "        - To do this, alter the 'while' statement to read 'while t <= 30'.\n",
    "\n",
    "*You'll notice it takes a longer time to compute.  That's expected.*\n",
    "\n",
    "You don't need to create any questions, the graphs will tell their own story.  Try and understand them, though."
   ]
  },
  {
   "cell_type": "code",
   "execution_count": null,
   "metadata": {},
   "outputs": [],
   "source": [
    "TIME_STEP = 0.01\n",
    "\n",
    "### Define your driven_damped_osccillator_accel (x=0, v=0, t=0) here\n",
    "\n",
    "### Set up your data frame.  Call it \"driven_data\"\n",
    "\n",
    "# Inital conditions are all 0.  System starts from rest and is \"pushed\" by external forcing term.  Leave these at 0.\n",
    "t=0\n",
    "x=0\n",
    "v=0\n",
    "\n",
    "### Copy and adapt the main loop from the problem above.\n",
    "### Remember, your while condition this time is 'while t <= 30:'\n",
    "### Also remember, the names of your data frame and acceleration function have changed.\n",
    "\n",
    "\n",
    "###\n",
    "\n",
    "# This is just plotting the 3 graphs.  Don't worry about it.\n",
    "plt.figure(7)\n",
    "driven_data.plot(x='Time',y='Position')\n",
    "plt.show()\n",
    "\n",
    "plt.figure(8)\n",
    "driven_data.plot(x='Time',y='Velocity')\n",
    "plt.show()\n",
    "\n",
    "plt.figure(9)\n",
    "driven_data.plot(x='Time',y='Acceleration')\n",
    "plt.show()"
   ]
  },
  {
   "cell_type": "code",
   "execution_count": null,
   "metadata": {},
   "outputs": [],
   "source": []
  }
 ],
 "metadata": {
  "kernelspec": {
   "display_name": "Python 3",
   "language": "python",
   "name": "python3"
  },
  "language_info": {
   "codemirror_mode": {
    "name": "ipython",
    "version": 3
   },
   "file_extension": ".py",
   "mimetype": "text/x-python",
   "name": "python",
   "nbconvert_exporter": "python",
   "pygments_lexer": "ipython3",
   "version": "3.6.9"
  }
 },
 "nbformat": 4,
 "nbformat_minor": 2
}
